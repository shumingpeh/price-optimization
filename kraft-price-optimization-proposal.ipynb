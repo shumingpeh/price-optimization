{
 "cells": [
  {
   "cell_type": "markdown",
   "metadata": {},
   "source": [
    "This notebook tries to illustrate the idea of how to proceed with the price optimization problem for kraft. My previous experience with EA, might not be entirely transferrable due to the nuances of the industry. Still, the theory is still applicable\n",
    "\n",
    "There are 2 tiers towards the price optimization\n",
    "1. Getting demand model for items in kraft's\n",
    "1. From demand model, price optimization will be carried out"
   ]
  },
  {
   "cell_type": "markdown",
   "metadata": {},
   "source": [
    "# Components of analysis\n",
    "1. Exploratory data analysis of kraft's data\n",
    "1. Understanding kraft's seasonality, and transforming it to stationary\n",
    "1. Demand generation modeling for each item in kraft's inventory\n",
    "1. Price optimization of each item from demand generation\n",
    "1. Forecast of daily sales from recommendation\n",
    "1. Draw down of revenue from sales? Duration of recovery"
   ]
  },
  {
   "cell_type": "markdown",
   "metadata": {},
   "source": [
    "## Exploratory data analysis of kraft's data"
   ]
  },
  {
   "cell_type": "markdown",
   "metadata": {},
   "source": [
    "- Here, it will be to fully understand the underlying data of kraft. There can be more upon having the data, but should at least comprise of the following:\n",
    "    - General idea of sales/demand trend of each cateogry\n",
    "        - if autocorrelation is present --> if sales today is high, would it follow or taper\n",
    "    - How often does sales occur, and when it does, how does it affect sales; during and after\n",
    "    - Inventory level, speed of replendisment\n",
    "    - If broken assortment effect is present in fmcg\n",
    "    - A good feel of the idea, how grainular it can be too (weekly, daily)"
   ]
  },
  {
   "cell_type": "markdown",
   "metadata": {},
   "source": [
    "## Understanding kraft's seasonality, and transforming it to stationary"
   ]
  },
  {
   "cell_type": "markdown",
   "metadata": {},
   "source": [
    "- for each category of items, i would like to know the seasonality it faces\n",
    "    - so that adjustment can be applied appropriately for the demand model later "
   ]
  },
  {
   "cell_type": "markdown",
   "metadata": {},
   "source": [
    "## Demand generation modeling for each item in kraft's inventory"
   ]
  },
  {
   "cell_type": "markdown",
   "metadata": {},
   "source": [
    "- To give more context why choosing to model the demand first\n",
    "    - Here, we try to model out every kraft item ($Q_i$) in terms of all kraft item prices, competitor prices, if promotion is present or not and etc\n",
    "    - This would be give us more understanding of how demand of item is directly affected with the prices considered\n",
    "- The variables that go into the model might include the following (and more):\n",
    "    - is holiday period --> (binary, 1 or 0)\n",
    "    - is promotion present --> (binary, 1 or 0)\n",
    "    - is aisle placing --> (binary, 1 or 0)\n",
    "    - is offline advertising present --> (binary, 1 or 0)\n",
    "    - previous period demand \n",
    "        - this is meant to introduce some idea of autocorrelation\n",
    "    - competitors price\n",
    "    - competitors sales numbers\n",
    "    - price of items\n",
    "    - broken assortment effect \n",
    "        - might not be applicable\n",
    "    - age of item (how close to expiry date)\n",
    "- The demand model should look something like this:\n",
    "    - $Q_i$ = $\\beta_0*IsHolidayPeriod$ + $\\beta_1*IsPromotionPresent$ + $\\beta_2*IsAislePlacing$ + $\\beta_3*IsOfflineAdvertisingPresent$ + $\\beta_4*PreviousPeriodDemand_i$ + $\\beta_5*CompetitorPrice_i$ + $\\beta_6*CompetitorQuantitySold_i$ + $\\beta_7*KraftPrices_r$ + $\\beta_8*BrokenAssortmentEffect$ +  $\\beta_9*AgeOfItem_i$\n",
    "        - $Q_i$ = quantity sold for item"
   ]
  },
  {
   "cell_type": "markdown",
   "metadata": {},
   "source": [
    "## Price optimization of each item from demand generation"
   ]
  },
  {
   "cell_type": "markdown",
   "metadata": {},
   "source": [
    "- The main motivation of having quantity (demand) in terms of prices, are as follows:\n",
    "    - it can be directly translated into revenue with $Q_i * P_i$\n",
    "    - it can be approached as a mathematical problem to optimize all of kraft prices\n",
    "- Constraints can be applied to the price optimization\n",
    "    - a max (in)decrease of prices of 20%\n",
    "    - a limit of number of items to optimize price for\n",
    "\n",
    "###### For an example of demand and price optimization, it can be referred to [link](https://github.com/shumingpeh/price-optimization)\n"
   ]
  },
  {
   "cell_type": "markdown",
   "metadata": {},
   "source": [
    "## Forecast of daily sales from recommendation"
   ]
  },
  {
   "cell_type": "markdown",
   "metadata": {},
   "source": [
    "- After the obtaining the price optimization results, the forecast of sales will be generated to obtain the amount of uplift\n",
    "- A pilot test can be set up, so as to see if the recommendations do follow through as expected"
   ]
  },
  {
   "cell_type": "markdown",
   "metadata": {},
   "source": [
    "## Draw down of revenue from sales? Duration of recovery"
   ]
  },
  {
   "cell_type": "markdown",
   "metadata": {},
   "source": [
    "- If prices are not going to be permanent and changed temporary\n",
    "- How do demand (and revenue) get affected after the sales?\n",
    "    - We are able to quantify the recovery duration with a statistical theory: mean reversion\n",
    "    - past experience with EA (ping me for presentation, due to sensitive materials)"
   ]
  }
 ],
 "metadata": {
  "kernelspec": {
   "display_name": "Python 3",
   "language": "python",
   "name": "python3"
  },
  "language_info": {
   "codemirror_mode": {
    "name": "ipython",
    "version": 3
   },
   "file_extension": ".py",
   "mimetype": "text/x-python",
   "name": "python",
   "nbconvert_exporter": "python",
   "pygments_lexer": "ipython3",
   "version": "3.6.3"
  }
 },
 "nbformat": 4,
 "nbformat_minor": 2
}
